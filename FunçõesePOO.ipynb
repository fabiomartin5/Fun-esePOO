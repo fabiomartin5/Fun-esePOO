{
 "cells": [
  {
   "cell_type": "code",
   "execution_count": 1,
   "metadata": {},
   "outputs": [
    {
     "name": "stdout",
     "output_type": "stream",
     "text": [
      "Theo\n",
      "12\n"
     ]
    }
   ],
   "source": [
    "###Você está organizando uma lista de alunos por turmas em uma escola. Cada turma contém vários alunos, e cada aluno é deve conter um nome, idade e id.\n",
    "###Exercício da aula passada, porém deve ser resolvido utilizando o que aprendemos sobre POO.\n",
    "\n",
    "###a) Crie duas turmas, cada uma contendo dois alunos.\n",
    "\n",
    "###b) Adicionar um novo aluno: Adicione um novo aluno em uma das turmas.\n",
    "\n",
    "###c) Remover um aluno: Remova um aluno de uma das turmas.\n",
    "\n",
    "###d) Exibir os alunos de uma turma\n",
    "\n",
    "class Aluno():\n",
    "    def __init__(self, nome, idade, id):\n",
    "        self.nome = nome\n",
    "        self.idade = idade\n",
    "        self.id = id\n",
    "\n",
    "aluno1 = Aluno(\"Theo\", 12, 1)\n",
    "\n",
    "print(aluno1.nome)\n",
    "print(aluno1.idade)"
   ]
  },
  {
   "cell_type": "code",
   "execution_count": 2,
   "metadata": {},
   "outputs": [
    {
     "name": "stdout",
     "output_type": "stream",
     "text": [
      "56\n"
     ]
    }
   ],
   "source": [
    "#Faça uma função que dado um vetor de inteiros retorne o maior inteiro do vetor.\n",
    "def MaiorValor(vetor):\n",
    "    if (len(vetor) == 0):\n",
    "        return None\n",
    "    maior = vetor[0]\n",
    "\n",
    "    for i in range(len(vetor)):\n",
    "        if vetor[i] > maior:\n",
    "            maior = vetor[i]\n",
    "    return maior\n",
    "\n",
    "vetor = [23, 45, 56, 7]\n",
    "print(MaiorValor(vetor))"
   ]
  },
  {
   "cell_type": "code",
   "execution_count": 6,
   "metadata": {},
   "outputs": [],
   "source": [
    "class Aluno:\n",
    "    def __init__(self, nome, idade, id):\n",
    "        self.nome = nome\n",
    "        self.idade = idade\n",
    "        self.id = id\n",
    "\n",
    "class Turma:\n",
    "    def __init__(self, nome):\n",
    "        self.nome = nome\n",
    "        self.alunos = []\n",
    "\n",
    "    def AdicionarAluno(self, nome, idade, id):\n",
    "        aluno = Aluno(nome, idade, id)\n",
    "        self.alunos.append(aluno)\n",
    "        print(f\"Aluno {nome} adicionado à {self.nome} com sucesso!\")\n",
    "\n",
    "    def RemoverAluno(self, idAlunoRemover):\n",
    "        for aluno in self.alunos:\n",
    "            if aluno.id == idAlunoRemover:\n",
    "                self.alunos.remove(aluno)\n",
    "\n",
    "    def listarAlunos(self):\n",
    "        if len(self.alunos) == 0:\n",
    "            print(\"Essa turma não contém alunos\")\n",
    "            return None\n",
    "        for aluno in self.alunos:\n",
    "            print(f\"Nome: {aluno.nome}. Idade: {aluno.idade}. Id: {aluno.id}\")"
   ]
  },
  {
   "cell_type": "code",
   "execution_count": 7,
   "metadata": {},
   "outputs": [
    {
     "name": "stdout",
     "output_type": "stream",
     "text": [
      "Aluno Thiago adicionado à Turma A com sucesso!\n",
      "Aluno Romeu adicionado à Turma A com sucesso!\n",
      "Aluno Karina adicionado à Turma B com sucesso!\n",
      "Aluno Francis adicionado à Turma B com sucesso!\n",
      "Aluno Bruna adicionado à Turma A com sucesso!\n",
      "Nome: Thiago. Idade: 23. Id: 23188\n",
      "Nome: Romeu. Idade: 33. Id: 23189\n",
      "Nome: Bruna. Idade: 38. Id: 23207\n",
      "Nome: Karina. Idade: 32. Id: 23190\n",
      "Nome: Francis. Idade: 18. Id: 23200\n",
      "\n"
     ]
    }
   ],
   "source": [
    "#Turma A\n",
    "\n",
    "# Exemplo de uso\n",
    "turmaA = Turma(\"Turma A\")\n",
    "turmaB = Turma(\"Turma B\")\n",
    "\n",
    "aluno1 = Aluno(nome=\"Thiago\", idade=23, id=23188)\n",
    "aluno2 = Aluno(nome=\"Romeu\", idade=33, id=23189)\n",
    "\n",
    "turmaA.AdicionarAluno(aluno1.nome, aluno1.idade, aluno1.id)\n",
    "turmaA.AdicionarAluno(aluno2.nome, aluno2.idade, aluno2.id)\n",
    "\n",
    "\n",
    "turmaB.AdicionarAluno(nome=\"Karina\", idade=32, id=23190)\n",
    "turmaB.AdicionarAluno(nome=\"Francis\", idade=18, id=23200)\n",
    "turmaA.AdicionarAluno(nome=\"Bruna\", idade=38, id=23207)\n",
    "\n",
    "turmaA.listarAlunos()\n",
    "turmaB.listarAlunos()\n",
    "\n",
    "print()\n"
   ]
  },
  {
   "cell_type": "code",
   "execution_count": 8,
   "metadata": {},
   "outputs": [
    {
     "name": "stdout",
     "output_type": "stream",
     "text": [
      "Nome: Thiago. Idade: 23. Id: 23188\n",
      "Nome: Romeu. Idade: 33. Id: 23189\n",
      "Nome: Bruna. Idade: 38. Id: 23207\n"
     ]
    }
   ],
   "source": [
    "turmaA.listarAlunos()"
   ]
  },
  {
   "cell_type": "code",
   "execution_count": 9,
   "metadata": {},
   "outputs": [
    {
     "name": "stdout",
     "output_type": "stream",
     "text": [
      "Nome: Romeu. Idade: 33. Id: 23189\n",
      "Nome: Bruna. Idade: 38. Id: 23207\n"
     ]
    }
   ],
   "source": [
    "turmaA.RemoverAluno(idAlunoRemover=23188)\n",
    "turmaA.listarAlunos()"
   ]
  },
  {
   "cell_type": "code",
   "execution_count": 10,
   "metadata": {},
   "outputs": [
    {
     "name": "stdout",
     "output_type": "stream",
     "text": [
      "Alunos da turma: Turma A\n",
      "Nome: Romeu. Idade: 33. Id: 23189\n",
      "Nome: Bruna. Idade: 38. Id: 23207\n",
      "\n",
      "Alunos da turma: Turma B\n",
      "Nome: Karina. Idade: 32. Id: 23190\n",
      "Nome: Francis. Idade: 18. Id: 23200\n",
      "\n"
     ]
    }
   ],
   "source": [
    "print (f\"Alunos da turma: {turmaA.nome}\")\n",
    "turmaA.listarAlunos()\n",
    "print()\n",
    "\n",
    "print (f\"Alunos da turma: {turmaB.nome}\")\n",
    "turmaB.listarAlunos()\n",
    "print()"
   ]
  },
  {
   "cell_type": "code",
   "execution_count": 13,
   "metadata": {},
   "outputs": [
    {
     "name": "stdout",
     "output_type": "stream",
     "text": [
      "[1, 2, 3, 9, 7, 6]\n",
      "[1, 2, 3]\n"
     ]
    }
   ],
   "source": [
    "##Crie uma função que dado dois vetores retorne um novo vetor que é a concatenação de ambos os vetores.\n",
    "\n",
    "def Concatenar(vetor1, vetor2):\n",
    "    NovoVetor = vetor1.copy()  # Converte a tupla em uma lista\n",
    "\n",
    "    for elemento in vetor2:\n",
    "        NovoVetor.append(elemento)\n",
    "        \n",
    "    return NovoVetor  # Converte a lista de volta para uma tupla\n",
    "\n",
    "vetor1 = [1, 2, 3]\n",
    "vetor2 = [9, 7, 6]\n",
    "\n",
    "NovoVetor = Concatenar(vetor1, vetor2)\n",
    "print(NovoVetor)\n",
    "print(vetor1)"
   ]
  },
  {
   "cell_type": "code",
   "execution_count": 14,
   "metadata": {},
   "outputs": [
    {
     "name": "stdout",
     "output_type": "stream",
     "text": [
      "[87, 9]\n"
     ]
    }
   ],
   "source": [
    "##Crie uma função que dado dois vetores retorne um novo vetor que é composto dos maiores elementos de cada vetor\n",
    "\n",
    "\n",
    "def Maiores(vetor1, vetor2):\n",
    "    NovoVetor = []\n",
    "\n",
    "    NovoVetor.append(MaiorValor(vetor1))\n",
    "    NovoVetor.append(MaiorValor(vetor2))\n",
    "\n",
    "    return NovoVetor\n",
    "\n",
    "vetor1 = [1, 2, 3, 7, 87]\n",
    "vetor2 = [9, 7, 6]\n",
    "\n",
    "print(Maiores(vetor1, vetor2))\n"
   ]
  },
  {
   "cell_type": "code",
   "execution_count": 15,
   "metadata": {},
   "outputs": [
    {
     "name": "stdout",
     "output_type": "stream",
     "text": [
      "2\n"
     ]
    }
   ],
   "source": [
    "## Crie uma função que receba uma lista de palavras e retorne o número de palavras que tenham um tamanho maior do que 5\n",
    "\n",
    "def PalavrasMaiores(ListaPalavras):\n",
    "    contador = 0\n",
    "    for palavra in ListaPalavras:  # Remova os parênteses aqui\n",
    "        if len(palavra) > 5:\n",
    "            contador += 1\n",
    "    return contador\n",
    "\n",
    "Palavras = [\"Olá\", \"Paçoca\", \"Molho\", \"juiz\", \"Azeitona\"]\n",
    "\n",
    "print(PalavrasMaiores(Palavras))"
   ]
  },
  {
   "cell_type": "code",
   "execution_count": 22,
   "metadata": {},
   "outputs": [
    {
     "name": "stdout",
     "output_type": "stream",
     "text": [
      "['Em 2024, os idosos no Brasil podem contar com opções de seguro de carro com tarifas reduzidas, especialmente adaptadas às suas necessidades. A seguir, exploramos como encontrar as melhores ofertas e entender os fatores que influenciam os preços.']\n"
     ]
    }
   ],
   "source": [
    "##Agora crie uma função que dado um texto e um número retorne o número de palavras que tenham um tamanho maior do que o número fornecido.\n",
    "\n",
    "def PalavrasMaioresX(texto, x):\n",
    "    contador = 0\n",
    "\n",
    "    ListaPalavras = texto.split(\" \")\n",
    "\n",
    "    \n",
    "    for palavra in ListaPalavras:  # Remova os parênteses aqui\n",
    "        if len(palavra) > x:\n",
    "            contador += 1\n",
    "    return contador\n",
    "\n",
    "texto = \"Em 2024, os idosos no Brasil podem contar com opções de seguro de carro com tarifas reduzidas, especialmente adaptadas às suas necessidades. A seguir, exploramos como encontrar as melhores ofertas e entender os fatores que influenciam os preços.\"\n",
    "\n",
    "\n",
    "print(texto.split(\"\\n\"))\n"
   ]
  },
  {
   "cell_type": "code",
   "execution_count": 23,
   "metadata": {},
   "outputs": [
    {
     "name": "stdout",
     "output_type": "stream",
     "text": [
      "9\n"
     ]
    }
   ],
   "source": [
    "print(PalavrasMaioresX(texto, 7))"
   ]
  }
 ],
 "metadata": {
  "kernelspec": {
   "display_name": "Python 3",
   "language": "python",
   "name": "python3"
  },
  "language_info": {
   "codemirror_mode": {
    "name": "ipython",
    "version": 3
   },
   "file_extension": ".py",
   "mimetype": "text/x-python",
   "name": "python",
   "nbconvert_exporter": "python",
   "pygments_lexer": "ipython3",
   "version": "3.11.4"
  }
 },
 "nbformat": 4,
 "nbformat_minor": 2
}
